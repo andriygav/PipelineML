{
 "cells": [
  {
   "cell_type": "code",
   "execution_count": 1,
   "metadata": {},
   "outputs": [],
   "source": [
    "import os\n",
    "import pickle\n",
    "\n",
    "import mlflow\n",
    "from mlflow import log_metric, log_param, log_artifacts\n",
    "\n",
    "import numpy as np\n",
    "from sklearn.datasets import make_classification\n",
    "from sklearn.linear_model import LogisticRegression\n",
    "from sklearn.model_selection import train_test_split\n",
    "from sklearn.model_selection import ParameterGrid"
   ]
  },
  {
   "cell_type": "code",
   "execution_count": 2,
   "metadata": {},
   "outputs": [],
   "source": [
    "server = 'http://localhost:5000'\n",
    "experiment = 'linear'\n",
    "mlflow.set_tracking_uri(server)\n",
    "mlflow.set_experiment(experiment)"
   ]
  },
  {
   "cell_type": "code",
   "execution_count": 3,
   "metadata": {},
   "outputs": [],
   "source": [
    "grid = ParameterGrid({'C': np.e**np.linspace(-3, 3, 10), \n",
    "                      'penalty': ['l1', 'l2']})\n",
    "\n",
    "for item in grid:\n",
    "    mlflow.start_run()\n",
    "\n",
    "    X, Y = make_classification(n_samples=400, n_features=2, \n",
    "                               n_informative=2, n_classes=2, \n",
    "                               n_redundant=0,\n",
    "                               n_clusters_per_class=1,\n",
    "                               random_state=0)\n",
    "    X_train, X_test, Y_train, Y_test = train_test_split(\n",
    "        X, Y, test_size=100, random_state=0)\n",
    "\n",
    "    log_param(\"C\", item['C'])\n",
    "    log_param(\"penalty\", item['penalty'])\n",
    "\n",
    "    model = LogisticRegression(C=item['C'], \n",
    "                               penalty=item['penalty'], solver='saga')\n",
    "\n",
    "    model.fit(X_train, Y_train)\n",
    "\n",
    "    log_metric(\"train acc\", model.score(X_train, Y_train))\n",
    "    log_metric(\"test acc\", model.score(X_test, Y_test))\n",
    "\n",
    "    mlflow.end_run()"
   ]
  }
 ],
 "metadata": {
  "kernelspec": {
   "display_name": "Python 3",
   "language": "python",
   "name": "python3"
  },
  "language_info": {
   "codemirror_mode": {
    "name": "ipython",
    "version": 3
   },
   "file_extension": ".py",
   "mimetype": "text/x-python",
   "name": "python",
   "nbconvert_exporter": "python",
   "pygments_lexer": "ipython3",
   "version": "3.6.2"
  }
 },
 "nbformat": 4,
 "nbformat_minor": 4
}
